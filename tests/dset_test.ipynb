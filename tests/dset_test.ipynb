{
 "cells": [
  {
   "cell_type": "code",
   "execution_count": 78,
   "metadata": {},
   "outputs": [
    {
     "name": "stdout",
     "output_type": "stream",
     "text": [
      "The autoreload extension is already loaded. To reload it, use:\n",
      "  %reload_ext autoreload\n"
     ]
    }
   ],
   "source": [
    "%load_ext autoreload\n",
    "import sys\n",
    "sys.path.append('../')\n",
    "from models.unet import UNet\n",
    "import torch\n",
    "from torch.utils.data import DataLoader, random_split\n",
    "\n",
    "import pytorch_lightning as pl\n",
    "from data.tgs_salt import SaltDataset\n",
    "from data.contact_dataset import ContactDataset\n",
    "import cv2\n",
    "import os \n",
    "from argparse import ArgumentParser"
   ]
  },
  {
   "cell_type": "code",
   "execution_count": 87,
   "metadata": {},
   "outputs": [
    {
     "data": {
      "text/plain": [
       "tensor(0.6400)"
      ]
     },
     "execution_count": 87,
     "metadata": {},
     "output_type": "execute_result"
    }
   ],
   "source": [
    "a = torch.rand(5, 5)\n",
    "a = (a > 0.5).float()\n",
    "b = torch.rand(5, 5)\n",
    "b = (b > 0.5).float()\n",
    "(a == b).float().mean()"
   ]
  },
  {
   "cell_type": "code",
   "execution_count": 12,
   "metadata": {},
   "outputs": [
    {
     "data": {
      "text/plain": [
       "0.1875"
      ]
     },
     "execution_count": 12,
     "metadata": {},
     "output_type": "execute_result"
    }
   ],
   "source": [
    "cv2.getGaussianKernel(5, 0).max()/2"
   ]
  },
  {
   "cell_type": "code",
   "execution_count": 75,
   "metadata": {},
   "outputs": [
    {
     "name": "stdout",
     "output_type": "stream",
     "text": [
      "/home/serialexperimentsleon/courses/cis520/CIS-5200-Final/datasets/contact_dset\n",
      "loaded info dict from pickle file!!\n"
     ]
    }
   ],
   "source": [
    "bag_name = 'contact_dset'\n",
    "dataset_root_dir = os.path.join(os.path.abspath(os.path.join('..')), 'datasets')\n",
    "dset_path = os.path.join(dataset_root_dir, bag_name)\n",
    "print(dset_path)\n",
    "os.path.exists(dset_path)\n",
    "contact_dset = ContactDataset(bag_path='../datasets/contact_dset')\n",
    "import numpy as np"
   ]
  },
  {
   "cell_type": "code",
   "execution_count": 77,
   "metadata": {},
   "outputs": [
    {
     "data": {
      "text/plain": [
       "array([[0.653  , 0.3728 , 0.594  , 0.3098 ],\n",
       "       [0.4285 , 0.4036 , 0.09766, 0.85   ],\n",
       "       [0.519  , 0.618  , 0.2834 , 0.1092 ]], dtype=float16)"
      ]
     },
     "execution_count": 77,
     "metadata": {},
     "output_type": "execute_result"
    }
   ],
   "source": [
    "# get random numpy array\n",
    "a = np.random.rand(3, 4)\n",
    "a.astype(np.float16)"
   ]
  },
  {
   "cell_type": "code",
   "execution_count": 72,
   "metadata": {},
   "outputs": [
    {
     "data": {
      "text/plain": [
       "(1, 180, 320)"
      ]
     },
     "execution_count": 72,
     "metadata": {},
     "output_type": "execute_result"
    }
   ],
   "source": [
    "contact_dset[0][-1][None, ...].shape"
   ]
  },
  {
   "cell_type": "code",
   "execution_count": 23,
   "metadata": {},
   "outputs": [],
   "source": [
    "loader = DataLoader(contact_dset, batch_size=2, shuffle=True)"
   ]
  },
  {
   "cell_type": "code",
   "execution_count": 55,
   "metadata": {},
   "outputs": [
    {
     "name": "stdout",
     "output_type": "stream",
     "text": [
      "tensor(50.)\n"
     ]
    }
   ],
   "source": [
    "# iterate through dataloader\n",
    "for batch in loader:\n",
    "    print((batch[-1]>1e-3).float().sum())\n",
    "    break"
   ]
  },
  {
   "cell_type": "code",
   "execution_count": 62,
   "metadata": {},
   "outputs": [
    {
     "data": {
      "text/plain": [
       "(1, 101, 101)"
      ]
     },
     "execution_count": 62,
     "metadata": {},
     "output_type": "execute_result"
    }
   ],
   "source": [
    "salt_dset = SaltDataset()\n",
    "salt_dset[0][-1].shape"
   ]
  },
  {
   "cell_type": "code",
   "execution_count": 12,
   "metadata": {},
   "outputs": [],
   "source": [
    "loader = DataLoader(dataset, batch_size=2, shuffle=False)"
   ]
  },
  {
   "cell_type": "code",
   "execution_count": 17,
   "metadata": {},
   "outputs": [
    {
     "name": "stdout",
     "output_type": "stream",
     "text": [
      "torch.Size([2, 1, 101, 101])\n"
     ]
    }
   ],
   "source": [
    "# iterate through dataloader\n",
    "for batch in loader:\n",
    "    print(batch[0].shape)\n",
    "    break"
   ]
  }
 ],
 "metadata": {
  "kernelspec": {
   "display_name": "Python 3.7.11 64-bit ('pytorch')",
   "language": "python",
   "name": "python3"
  },
  "language_info": {
   "codemirror_mode": {
    "name": "ipython",
    "version": 3
   },
   "file_extension": ".py",
   "mimetype": "text/x-python",
   "name": "python",
   "nbconvert_exporter": "python",
   "pygments_lexer": "ipython3",
   "version": "3.7.11 (default, Sep 12 2021, 22:12:31) \n[GCC 7.5.0]"
  },
  "orig_nbformat": 4,
  "vscode": {
   "interpreter": {
    "hash": "c7876b00db1bc6b9a8e936ddc37455fd39ec693a903b797168d600e2f9d9ed83"
   }
  }
 },
 "nbformat": 4,
 "nbformat_minor": 2
}
